{
  "nbformat": 4,
  "nbformat_minor": 0,
  "metadata": {
    "colab": {
      "provenance": []
    },
    "kernelspec": {
      "name": "python3",
      "display_name": "Python 3"
    },
    "language_info": {
      "name": "python"
    }
  },
  "cells": [
    {
      "cell_type": "markdown",
      "source": [
        "# **Restful API & Flask**"
      ],
      "metadata": {
        "id": "PJQ1bfZ2G1wT"
      }
    },
    {
      "cell_type": "markdown",
      "source": [
        "1. What is a RESTful API?"
      ],
      "metadata": {
        "id": "BB1S0P6JG6gW"
      }
    },
    {
      "cell_type": "markdown",
      "metadata": {
        "id": "a7ab0b4f"
      },
      "source": [
        "A RESTful API (Representational State Transfer) is a type of API that follows the principles of REST architecture. REST is a set of guidelines for designing networked applications. Key principles include:\n",
        "\n",
        "*   **Client-Server Architecture:** The client and server are independent of each other.\n",
        "*   **Statelessness:** Each request from a client to a server must contain all the information necessary to understand the request. The server should not store any client context between requests.\n",
        "*   **Cacheable:** Responses can be cached by clients to improve performance.\n",
        "*   **Uniform Interface:** There should be a uniform and standardized way of interacting with the API.\n",
        "*   **Layered System:** The architecture should be composed of multiple layers.\n",
        "\n",
        "RESTful APIs typically use standard HTTP methods (like GET, POST, PUT, DELETE) to interact with resources."
      ]
    },
    {
      "cell_type": "markdown",
      "metadata": {
        "id": "74dbff58"
      },
      "source": [
        "2. Explain the concept of API specification.\n",
        "\n",
        "An API specification is a document that describes the endpoints, operations, parameters, and responses of an API. It serves as a contract between the API provider and the API consumer, outlining how the API works and how to interact with it. API specifications can be written in various formats, such as OpenAPI (Swagger) or RAML. They are crucial for ensuring consistency, enabling developers to understand and use the API effectively, and facilitating automated documentation and testing."
      ]
    },
    {
      "cell_type": "markdown",
      "source": [],
      "metadata": {
        "id": "nXC0II-9H3sa"
      }
    },
    {
      "cell_type": "markdown",
      "metadata": {
        "id": "d315a626"
      },
      "source": [
        "3. What is Flask, and why is it popular for building APIs?\n",
        "\n",
        "Flask is a lightweight and flexible micro web framework for Python. It is popular for building APIs because of its simplicity, ease of use, and minimal dependencies. Flask provides the essential tools for web development without imposing a rigid structure, allowing developers to build APIs quickly and efficiently. Its flexibility also allows for easy integration with various libraries and extensions."
      ]
    },
    {
      "cell_type": "markdown",
      "metadata": {
        "id": "82b02cd0"
      },
      "source": [
        "4. What is routing in Flask?\n",
        "\n",
        "Routing in Flask refers to the process of mapping a URL path to a specific Python function. When a client sends a request to a particular URL, Flask uses its routing mechanism to determine which function should handle that request. This is typically done using the `@app.route()` decorator, which associates a URL pattern with a view function."
      ]
    },
    {
      "cell_type": "markdown",
      "metadata": {
        "id": "fa185f5a"
      },
      "source": [
        "5. How do you create a simple Flask application?\n",
        "\n",
        "Creating a simple Flask application involves a few basic steps:\n",
        "\n",
        "1.  **Import Flask:** Import the `Flask` class from the `flask` package.\n",
        "2.  **Create an instance:** Create an instance of the `Flask` class.\n",
        "3.  **Define a route:** Use the `@app.route()` decorator to define a URL path and associate it with a Python function (a view function).\n",
        "4.  **Run the application:** Use the `app.run()` method to start the development server."
      ]
    },
    {
      "cell_type": "code",
      "metadata": {
        "colab": {
          "base_uri": "https://localhost:8080/"
        },
        "id": "defae22f",
        "outputId": "fb7cbb84-db07-451e-e757-dcaf4b167fb9"
      },
      "source": [
        "from flask import Flask\n",
        "\n",
        "app = Flask(__name__)\n",
        "\n",
        "@app.route('/')\n",
        "def hello_world():\n",
        "    return 'Hello, World!'\n",
        "\n",
        "if __name__ == '__main__':\n",
        "    app.run()"
      ],
      "execution_count": 16,
      "outputs": [
        {
          "output_type": "stream",
          "name": "stdout",
          "text": [
            " * Serving Flask app '__main__'\n",
            " * Debug mode: off\n"
          ]
        },
        {
          "output_type": "stream",
          "name": "stderr",
          "text": [
            "INFO:werkzeug:\u001b[31m\u001b[1mWARNING: This is a development server. Do not use it in a production deployment. Use a production WSGI server instead.\u001b[0m\n",
            " * Running on http://127.0.0.1:5000\n",
            "INFO:werkzeug:\u001b[33mPress CTRL+C to quit\u001b[0m\n"
          ]
        }
      ]
    },
    {
      "cell_type": "markdown",
      "metadata": {
        "id": "10241f6f"
      },
      "source": [
        "6. What are HTTP methods used in RESTful APIs?\n",
        "\n",
        "RESTful APIs use standard HTTP methods to perform operations on resources. The most common methods are:\n",
        "\n",
        "*   **GET:** Retrieves data from a resource.\n",
        "*   **POST:** Submits data to a resource to create a new resource or perform an action.\n",
        "*   **PUT:** Updates an existing resource.\n",
        "*   **DELETE:** Deletes a resource.\n",
        "*   **PATCH:** Partially updates an existing resource.\n",
        "\n",
        "Each method has a specific purpose and is used to interact with resources in a standardized way."
      ]
    },
    {
      "cell_type": "markdown",
      "metadata": {
        "id": "7bc22ed1"
      },
      "source": [
        "7. What is the purpose of the `@app.route()` decorator in Flask?\n",
        "\n",
        "The `@app.route()` decorator in Flask is used to associate a URL path with a Python function. This function is called a view function. When a client requests the specified URL, Flask executes the corresponding view function and returns its result as the response. This allows you to define different endpoints for your API and handle requests to those endpoints with specific logic."
      ]
    },
    {
      "cell_type": "markdown",
      "metadata": {
        "id": "9425a99e"
      },
      "source": [
        "8. What is the difference between GET and POST HTTP methods?\n",
        "\n",
        "The main difference between GET and POST methods lies in how they send data and their intended use:\n",
        "\n",
        "*   **GET:** Used to **request data** from a specified resource. Data is sent in the URL as query parameters. GET requests are **idempotent** (making the same request multiple times has the same effect as making it once) and **cacheable**. They should not be used for sensitive data as the data is visible in the URL.\n",
        "*   **POST:** Used to **send data** to a server to create or update a resource. Data is sent in the body of the HTTP request. POST requests are **not idempotent** and **not cacheable**. They are suitable for sending sensitive data or large amounts of data."
      ]
    },
    {
      "cell_type": "markdown",
      "metadata": {
        "id": "ad3b6a7f"
      },
      "source": [
        "9. How do you handle errors in Flask APIs?\n",
        "\n",
        "In Flask, you can handle errors using error handlers. You can define custom error pages or API responses for specific HTTP status codes (e.g., 404 Not Found, 500 Internal Server Error) or for specific exception types. This is done using the `@app.errorhandler()` decorator. You can also use Flask extensions like Flask-RESTful or Flask-RESTPlus which provide more structured ways to handle errors in APIs."
      ]
    },
    {
      "cell_type": "markdown",
      "metadata": {
        "id": "cd9c0a97"
      },
      "source": [
        "10. How do you connect Flask to a SQL database?\n",
        "\n",
        "You can connect Flask to a SQL database using various libraries, with SQLAlchemy being a popular choice. SQLAlchemy is an ORM (Object-Relational Mapper) that allows you to interact with databases using Python objects instead of raw SQL. Flask-SQLAlchemy is a Flask extension that simplifies the integration of SQLAlchemy with Flask.\n",
        "\n",
        "Here's a basic example using Flask-SQLAlchemy:"
      ]
    },
    {
      "cell_type": "code",
      "metadata": {
        "id": "08e3d3f2"
      },
      "source": [
        "from flask import Flask\n",
        "from flask_sqlalchemy import SQLAlchemy\n",
        "\n",
        "app = Flask(__name__)\n",
        "app.config['SQLALCHEMY_DATABASE_URI'] = 'sqlite:///mydatabase.db'  # Example using SQLite\n",
        "db = SQLAlchemy(app)\n",
        "\n",
        "class User(db.Model):\n",
        "    id = db.Column(db.Integer, primary_key=True)\n",
        "    username = db.Column(db.String(80), unique=True, nullable=False)\n",
        "    email = db.Column(db.String(120), unique=True, nullable=False)\n",
        "\n",
        "    def __repr__(self):\n",
        "        return '<User %r>' % self.username\n",
        "\n",
        "if __name__ == '__main__':\n",
        "    with app.app_context():\n",
        "        db.create_all() # Create tables if they don't exist\n",
        "\n",
        "    # You can now use the 'db' object to interact with your database\n",
        "    # For example:\n",
        "    # new_user = User(username='testuser', email='test@example.com')\n",
        "    # db.session.add(new_user)\n",
        "    # db.session.commit()\n",
        "    # users = User.query.all()\n",
        "    # print(users)\n",
        "\n",
        "    # app.run(debug=True) # You would typically run the Flask app here"
      ],
      "execution_count": 17,
      "outputs": []
    },
    {
      "cell_type": "markdown",
      "metadata": {
        "id": "bd4f828b"
      },
      "source": [
        "11. What is the role of Flask-SQLAlchemy?\n",
        "\n",
        "Flask-SQLAlchemy is a Flask extension that provides support for integrating SQLAlchemy with Flask applications. It simplifies common tasks when using SQLAlchemy with Flask, such as setting up the database engine, managing sessions, and defining models. It provides helpers and conventions that make it easier to use SQLAlchemy within the Flask framework, reducing boilerplate code and promoting best practices."
      ]
    },
    {
      "cell_type": "markdown",
      "metadata": {
        "id": "1aeb1263"
      },
      "source": [
        "12. What are Flask blueprints, and how are they useful?\n",
        "\n",
        "Flask Blueprints are a way to organize your Flask application into smaller, reusable components. They allow you to define routes, static files, templates, and other application parts in a modular way. Blueprints are useful for building larger applications by breaking them down into manageable pieces. They also make it easier to reuse application parts across different projects. You can register a Blueprint with a Flask application to add its functionality to the application."
      ]
    },
    {
      "cell_type": "markdown",
      "metadata": {
        "id": "3066077b"
      },
      "source": [
        "13. What is the purpose of Flask's request object?\n",
        "\n",
        "Flask's `request` object encapsulates all the information coming from an incoming HTTP request. It provides access to data such as form data (`request.form`), query parameters (`request.args`), JSON data (`request.json`), headers (`request.headers`), cookies (`request.cookies`), and files (`request.files`). This object is essential for accessing and processing data sent by the client to the Flask application."
      ]
    },
    {
      "cell_type": "markdown",
      "metadata": {
        "id": "a65cd7fe"
      },
      "source": [
        "14. How do you create a RESTful API endpoint using Flask?\n",
        "\n",
        "To create a RESTful API endpoint in Flask, you define a view function and associate it with a URL path and HTTP methods using the `@app.route()` decorator. You typically return data in a structured format like JSON using the `jsonify` function from Flask.\n",
        "\n",
        "Here's an example of a simple GET endpoint:"
      ]
    },
    {
      "cell_type": "code",
      "metadata": {
        "colab": {
          "base_uri": "https://localhost:8080/"
        },
        "id": "e04824b7",
        "outputId": "0de10267-5f0a-4f8a-bdb2-7eeafe983a9c"
      },
      "source": [
        "from flask import Flask, jsonify\n",
        "\n",
        "app = Flask(__name__)\n",
        "\n",
        "@app.route('/api/data', methods=['GET'])\n",
        "def get_data():\n",
        "    \"\"\"A simple GET endpoint.\"\"\"\n",
        "    data = {\"name\": \"Example\", \"value\": 123}\n",
        "    return jsonify(data)\n",
        "\n",
        "if __name__ == '__main__':\n",
        "    app.run(debug=True)"
      ],
      "execution_count": 18,
      "outputs": [
        {
          "output_type": "stream",
          "name": "stdout",
          "text": [
            " * Serving Flask app '__main__'\n",
            " * Debug mode: on\n"
          ]
        },
        {
          "output_type": "stream",
          "name": "stderr",
          "text": [
            "INFO:werkzeug:\u001b[31m\u001b[1mWARNING: This is a development server. Do not use it in a production deployment. Use a production WSGI server instead.\u001b[0m\n",
            " * Running on http://127.0.0.1:5000\n",
            "INFO:werkzeug:\u001b[33mPress CTRL+C to quit\u001b[0m\n",
            "INFO:werkzeug: * Restarting with watchdog (inotify)\n"
          ]
        }
      ]
    },
    {
      "cell_type": "markdown",
      "metadata": {
        "id": "136a7464"
      },
      "source": [
        "15. What is the purpose of Flask's `jsonify()` function?\n",
        "\n",
        "Flask's `jsonify()` function is a helper function that serializes Python dictionaries or lists into JSON format and returns a `Response` object with the `Content-Type` header set to `application/json`. This is commonly used when building RESTful APIs to return data in a standardized format that can be easily consumed by clients."
      ]
    },
    {
      "cell_type": "markdown",
      "metadata": {
        "id": "47b97b8f"
      },
      "source": [
        "16. Explain Flask’s `url_for()` function.\n",
        "\n",
        "Flask's `url_for()` function is used for URL building. It takes the name of a view function as its first argument and any variable parts of the URL rule as keyword arguments. It returns the URL for the specified view function. Using `url_for()` is preferred over hardcoding URLs in your templates and code because it allows Flask to generate the correct URL, even if you change the URL rule later. This makes your application more flexible and maintainable."
      ]
    },
    {
      "cell_type": "markdown",
      "metadata": {
        "id": "7c77b9ee"
      },
      "source": [
        "17. How does Flask handle static files (CSS, JavaScript, etc.)?\n",
        "\n",
        "Flask applications can serve static files such as CSS stylesheets, JavaScript files, and images. By default, Flask looks for static files in a folder named `static` within your application's root directory. You can then reference these files in your templates using the `url_for()` function with the endpoint name `'static'` and the filename as a keyword argument.\n",
        "\n",
        "For example, to link a CSS file named `style.css` located in the `static` folder, you would use `<link rel=\"stylesheet\" href=\"{{ url_for('static', filename='style.css') }}\">` in your HTML template."
      ]
    },
    {
      "cell_type": "markdown",
      "metadata": {
        "id": "20ac88e2"
      },
      "source": [
        "18. What is an API specification, and how does it help in building a Flask API?\n",
        "\n",
        "An API specification is a detailed description of an API's endpoints, operations, parameters, and responses. It acts as a contract between the API provider and consumers, ensuring everyone understands how the API works.\n",
        "\n",
        "When building a Flask API, an API specification helps in several ways:\n",
        "\n",
        "*   **Clarity and Communication:** It provides a clear and unambiguous definition of the API, improving communication among team members and with API consumers.\n",
        "*   **Consistency:** It helps maintain consistency in the API design, ensuring endpoints and data formats are standardized.\n",
        "*   **Documentation:** Tools can generate interactive documentation directly from the specification, making it easy for developers to explore and understand the API.\n",
        "*   **Testing:** Specifications can be used to automatically generate test cases, improving the quality and reliability of the API.\n",
        "*   **Code Generation:** Some tools can generate code (like client libraries or server stubs) from the specification, accelerating development.\n",
        "\n",
        "By defining an API specification early in the development process, you can streamline the building and consumption of your Flask API."
      ]
    },
    {
      "cell_type": "markdown",
      "metadata": {
        "id": "2e29cd2a"
      },
      "source": [
        "19. What are HTTP status codes, and why are they important in a Flask API?\n",
        "\n",
        "HTTP status codes are three-digit numbers returned by a server in response to an HTTP request. They indicate the outcome of the request, such as whether it was successful, redirected, or resulted in an error.\n",
        "\n",
        "HTTP status codes are important in a Flask API because they provide standardized feedback to the client about the result of their request. This allows clients to understand what happened and handle different situations appropriately. For example, a `200 OK` indicates success, a `404 Not Found` indicates that the requested resource was not found, and a `500 Internal Server Error` indicates a server-side error. Using appropriate status codes is crucial for building robust and predictable APIs."
      ]
    },
    {
      "cell_type": "markdown",
      "metadata": {
        "id": "7ec11d03"
      },
      "source": [
        "20. How do you handle POST requests in Flask?\n",
        "\n",
        "To handle POST requests in Flask, you need to specify `methods=['POST']` in the `@app.route()` decorator. You can then access the data sent in the request body using the `request` object, typically `request.form` for form data or `request.json` for JSON data."
      ]
    },
    {
      "cell_type": "code",
      "metadata": {
        "colab": {
          "base_uri": "https://localhost:8080/"
        },
        "id": "988e43aa",
        "outputId": "935d608d-273e-47a3-8702-826e4793f257"
      },
      "source": [
        "from flask import Flask, request, jsonify\n",
        "\n",
        "app = Flask(__name__)\n",
        "\n",
        "@app.route('/api/items', methods=['POST'])\n",
        "def create_item():\n",
        "    \"\"\"Handles POST requests to create a new item.\"\"\"\n",
        "    if request.is_json:\n",
        "        item_data = request.json\n",
        "        # Process the item_data (e.g., save to database)\n",
        "        print(\"Received JSON data:\", item_data)\n",
        "        return jsonify({\"message\": \"Item created successfully\", \"item\": item_data}), 201\n",
        "    else:\n",
        "        return jsonify({\"error\": \"Request must be JSON\"}), 415\n",
        "\n",
        "if __name__ == '__main__':\n",
        "    app.run(debug=True)"
      ],
      "execution_count": 19,
      "outputs": [
        {
          "output_type": "stream",
          "name": "stdout",
          "text": [
            " * Serving Flask app '__main__'\n",
            " * Debug mode: on\n"
          ]
        },
        {
          "output_type": "stream",
          "name": "stderr",
          "text": [
            "INFO:werkzeug:\u001b[31m\u001b[1mWARNING: This is a development server. Do not use it in a production deployment. Use a production WSGI server instead.\u001b[0m\n",
            " * Running on http://127.0.0.1:5000\n",
            "INFO:werkzeug:\u001b[33mPress CTRL+C to quit\u001b[0m\n",
            "INFO:werkzeug: * Restarting with watchdog (inotify)\n",
            "ERROR:root:Unexpected exception finding object shape\n",
            "Traceback (most recent call last):\n",
            "  File \"/usr/local/lib/python3.12/dist-packages/google/colab/_debugpy_repr.py\", line 54, in get_shape\n",
            "    shape = getattr(obj, 'shape', None)\n",
            "            ^^^^^^^^^^^^^^^^^^^^^^^^^^^\n",
            "  File \"/usr/local/lib/python3.12/dist-packages/werkzeug/local.py\", line 318, in __get__\n",
            "    obj = instance._get_current_object()\n",
            "          ^^^^^^^^^^^^^^^^^^^^^^^^^^^^^^\n",
            "  File \"/usr/local/lib/python3.12/dist-packages/werkzeug/local.py\", line 519, in _get_current_object\n",
            "    raise RuntimeError(unbound_message) from None\n",
            "RuntimeError: Working outside of request context.\n",
            "\n",
            "This typically means that you attempted to use functionality that needed\n",
            "an active HTTP request. Consult the documentation on testing for\n",
            "information about how to avoid this problem.\n"
          ]
        }
      ]
    },
    {
      "cell_type": "markdown",
      "metadata": {
        "id": "f1e0bd50"
      },
      "source": [
        "21. How would you secure a Flask API?\n",
        "\n",
        "Securing a Flask API involves several considerations:\n",
        "\n",
        "*   **Authentication:** Verify the identity of the client making the request. Common methods include API keys, token-based authentication (like JWT), or OAuth.\n",
        "*   **Authorization:** Determine what actions an authenticated client is allowed to perform. This can be implemented using role-based access control (RBAC) or other permission systems.\n",
        "*   **HTTPS:** Always use HTTPS to encrypt communication between the client and the API, protecting data in transit.\n",
        "*   **Input Validation:** Sanitize and validate all input data to prevent common vulnerabilities like SQL injection or cross-site scripting (XSS).\n",
        "*   **Rate Limiting:** Limit the number of requests a client can make within a specific time frame to prevent abuse and denial-of-service attacks.\n",
        "*   **Error Handling:** Implement proper error handling to avoid exposing sensitive information in error responses.\n",
        "*   **Cross-Origin Resource Sharing (CORS):** Configure CORS headers to control which domains are allowed to access your API. Flask-CORS is a useful extension for this.\n",
        "*   **Security Headers:** Set appropriate security headers (e.g., X-Content-Type-Options, X-Frame-Options) to enhance security.\n",
        "*   **Dependency Security:** Keep your Flask and other library dependencies updated to patch known vulnerabilities.\n",
        "*   **Logging and Monitoring:** Implement logging and monitoring to detect and respond to suspicious activity.\n",
        "\n",
        "Implementing a combination of these measures is crucial for building a secure Flask API."
      ]
    },
    {
      "cell_type": "markdown",
      "metadata": {
        "id": "0c5cb62a"
      },
      "source": [
        "22. What is the significance of the Flask-RESTful extension?\n",
        "\n",
        "Flask-RESTful is an extension for Flask that provides tools and conventions for building REST APIs quickly. It simplifies the creation of RESTful endpoints by providing abstractions for resources and request parsing. It also includes built-in support for request parsing, error handling, and serialization. Using Flask-RESTful can streamline the development of REST APIs compared to building them with Flask alone."
      ]
    },
    {
      "cell_type": "markdown",
      "metadata": {
        "id": "6abb3e77"
      },
      "source": [
        "23. What is the role of Flask’s session object?\n",
        "\n",
        "Flask's `session` object allows you to store information specific to a user from one request to the next. It uses cookies on the client-side to store a session ID, and the actual session data is typically stored on the server. This is useful for maintaining state between requests, such as keeping track of a logged-in user or storing temporary data like shopping cart contents. To use sessions, you need to set a secret key in your Flask application for security."
      ]
    },
    {
      "cell_type": "markdown",
      "source": [
        "# **Practical**"
      ],
      "metadata": {
        "id": "En8IlTY8Kvr6"
      }
    },
    {
      "cell_type": "markdown",
      "source": [
        "# **NOTE:-** I am uploading the answers to all the practical questions to Google Drive because each question has a separate folder. The folder names themselves are the questions — for example, ‘1. How do you create a basic Flask application?’. Inside each folder there is a .py file, a templates folder with HTML and CSS files, and images. That’s why I am uploading the folders to Google Drive. I will also upload them to GitHub and provide their links."
      ],
      "metadata": {
        "id": "moZ8ScNzKyyr"
      }
    }
  ]
}